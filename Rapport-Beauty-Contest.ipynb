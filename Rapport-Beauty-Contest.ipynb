{
 "cells": [
  {
   "cell_type": "markdown",
   "metadata": {},
   "source": [
    "#                     ****P-Beauty Contest****"
   ]
  },
  {
   "cell_type": "markdown",
   "metadata": {},
   "source": [
    "## *Plan :* \n",
    "### *I-Introduction* \n",
    "### *2-Données :*\n",
    "*a) Récupération des données* \n",
    " \n",
    "*b) Explication des données et théories*\n",
    "\n",
    "### *3-Analyse des données :* \n",
    "*a) Outils statistiques* \n",
    "\n",
    "*b) Analyse sur l'information et la récompense*  \n",
    "\n",
    "*c) Modèle de régression final* \n",
    "### *4-Conclusion*\n",
    "*a) Principaux résultats et interprétations*\n",
    "\n",
    "*b) Difficultés rencontrées* \n",
    "\n",
    "*c) Ce qu'on a appris*\n",
    "\n",
    "*d) Bibliographie*"
   ]
  },
  {
   "cell_type": "markdown",
   "metadata": {},
   "source": [
    "## **1-Introduction:**"
   ]
  },
  {
   "cell_type": "markdown",
   "metadata": {},
   "source": [
    "La science économique est, selon Lionel Robbins : “la science qui étudie les conditions optimales de l’allocation des ressources rares et polyvalentes à des fins multiples\" (1932). Après plus de trois siècles de débats entre auteurs, cette science a réussi à comprendre la plupart des mécanismes entourant des phénomènes économiques jusque-là inconnus (crise financière, crise de consommation, chômage, inflation, dette etc ... ). Son corpus théorique semble avoir des solutions adaptées mais admet une faiblesse : la rationalité des agents. Que ce soit Robert Solow, John Maynard Keynes, Frank Ramsey, David Ricardo, Léon Walras, Jean Baptiste Say ou même Karl Marx, tous ces auteurs se fixent sur une hypothèse intransigible : que les agents sont rationnels (homo œconomicus) et feront ainsi toujours le meilleur choix possible avec l’information parfaite. Cette hypothèse est toujours rejetée en réalité et est l’une des causes du grand clivage des écoles de pensée économique. C’est ainsi qu'apparut l’économie expérimentale au milieu du 20ème siècle avec pour objectif d’expliquer le comportement des agents, et comprendre leur irrationalité. La philosophie expérimentale est au cœur de l’économie moderne et l’un de ses piliers est la théorie des jeux. Ce devoir est donc une tentative de réponse à la problématique énigmatique de la théorie des jeux :\n",
    "\n",
    "***Peut-on prévoir la décision d’un agent dans un jeu à intérêt collectif ?***\n",
    "\n",
    "La réponse à une telle question a des répercussions importantes en économie politique  et théorique, d’où son importance. En se basant sur le principe d’auto-réalisation, les agents et leurs comportements individuels influent largement sur l’efficacité d’une politique économique.\n",
    "\n",
    "Le principe est donc de comprendre le chemin de raisonnement d’un agent en sachant que son intérêt personnel dépend de cette décision mais aussi celles des autres agents.\n",
    "\n",
    "Pour répondre à cette problématique, nous allons travailler sur le concours de beauté de Keynes revisité aussi appelé : le p-beauty contest. John Maynard Keynes illustre ce concept  en 1936 dans le courant de son œuvre majeur : “La théorie générale de l’emploi, de l’intérêt et de la monnaie”. Le principe du jeu étant de choisir la fille la plus jolie parmi une collection de photos, la personne ayant deviné la fille la plus populaire gagnera une récompense. Ainsi, chaque joueur devait deviner les préférences collectives en se basant sur des stéréotypes physiques. Les résultats permettent de percevoir les aprioris sociétaux de chaque joueur. Ainsi, l’idée de Keynes était de retracer la pensée tendancielle ou “populaire” d’une population à caractères homogènes. Keynes a théorisé le comportement des acteurs sur les marchés financiers à l’aide des décisions implicites dans le jeu, ce qui permet de “prévoir” partiellement l’efficacité d’une politique incitative (à la consommation ou même à l’investissement).\n",
    "\n",
    "Problème étant que le jeu initial n’est pas assez complet en termes d’informations pour quantifier le chemin de raisonnement. Ainsi le p-beauty contest a été pensé par Hervé Moulin en 1986 avec un principe un peu plus complexe mais avec des résultats bien plus intéressant. Le jeu se déroule de la manière suivante : chaque joueur doit choisir un nombre entre 0 et 100, en sachant que le gagnant du jeu sera la personne la plus proche des ¾ de la moyenne des nombres de tous les participants. Prenons un exemple simple avec 5 joueurs :\n",
    "On observe donc 5 nombres : 5 ,40, 30, 70, 44. On calcule la moyenne des nombres(5+40+30+70+44)/5 = 37.8, ainsi le gagnant du jeu sera la personne la plus proche de ¾ x37.8 = 28.35. Dans notre exemple, le gagnant du jeu sera le joueur ayant choisi le nombre 30. \n",
    "En théorie des jeux, il existe une solution dite optimale au sens de Nash (John Nash : mathématicien américain du 20ème siècle). Cette solution permet de maximiser les gains individuels de chaque joueur sans qu’aucunes décisions ne soient regrettées. C’est la réponse qui fait gagner tout le monde et qui doit être choisi en situation de parfaite rationalité. C’est l’équilibre de Nash. Cette solution est le nombre 0 dans le p-beauty contest, car en effet, si tous les joueurs mettent 0 en réponse, la moyenne sera 0 et le nombre gagnant sera 0  : ainsi tous les joueurs gagnent la récompense et n’ont aucun intérêt à modifier leur choix. \n",
    "\n",
    "Nous allons dans cette analyse de données vérifier si cet optimum de Nash est toujours respecté (nous allons voir que non) et allons donc expliquer pourquoi il est quasi-inatteignable.\n"
   ]
  },
  {
   "cell_type": "markdown",
   "metadata": {},
   "source": [
    "## **2-Données :** \n",
    "### a) Récupération des données:"
   ]
  },
  {
   "cell_type": "markdown",
   "metadata": {},
   "source": [
    "Les données que nous avons utilisées pour réaliser ce projet proviennent de l'article \"One, Two, (Three), Infinity, … : Newspaper And Lab Beauty-Contest Experiments\" (Bosch-Domènech, A., García-Montalvo, J., Nagel, R., & Satorra, A., 2002). Elles ont été récupérées sur le site [x-econ.org](https://x-econ.org/xecon/#!Detail/10.23663/x2544), grâce à la collaboration du Docteur Rosemarie Nagel. \n"
   ]
  },
  {
   "cell_type": "markdown",
   "metadata": {},
   "source": [
    "### b) Explication des données et des théories:\n",
    "\n",
    "Les données sont le résultat des 17 expériences réalisées sur 11 groupes différents par les auteurs de l’article mentionné ci-dessus entre 1995 et 1997.  Ces données permettent d'analyser les différentes prises de décisions selon différents profils, comme la connaissance en théorie de jeux, la récompense offerte, le temps de réflexion, le nombre de participants, etc.\n",
    "\n",
    "Ainsi, en agrégeant les données de chaque expérience ou groupe d’expérience (treatment), nous allons calculer les moyennes des valeurs observées ainsi que l’ensemble des statistiques descriptives. Nous travaillerons à partir de ces statistiques descriptives. \n",
    "\n",
    "Le tableau suivant est la synthèse du déroulement des expériences :\n",
    "![codebook](Codebook.png)\n",
    "\n",
    "Dans un premier temps, nous allons comparer deux effets leviers possibles qui sont l’information et la récompense. Nous interpréterons les résultats obtenus en alliant théorie et pratique. \n",
    "\n",
    "Dans un second temps, nous allons faire un modèle linéaire multiple avec les caractéristiques que l’on a jugé influentes sur la décision des agents. Nous avons ainsi sélectionné 5 caractéristiques censées expliquer la moyenne observée : \n",
    "\n",
    "##### ***1- L’information des joueurs (variable ‘Knowledge’) :***\n",
    "Cette caractéristique sera estimée par un indice de connaissance en théorie des jeux et donc au mécanisme du p-beauty contest. Ainsi les groupes d’expériences 6 et 7, qui sont composés d’économistes et de spécialistes en théorie des jeux, seront la référence de parfaite connaissance (Nous leur attribuerons la valeur 2). Les groupes 3, 4 et 5 seront au niveau intermédiaire, c’est-à-dire qu’ils admettent certaines connaissances en théorie des jeux qui les aiguillent sur leur compréhension du jeu sans être parfaite (nous leur attribuerons la valeur 1). Les autres groupes seront considérés comme ayant aucune connaissance en théorie des jeux (nous leur attribuerons la valeur 0). Ainsi, l’objectif de la première analyse sera de voir si la connaissance en théorie des jeux a un impact sur la décision des joueurs. Cela nous permettra d’affirmer si l’information peut être un effet de levier déterministe ou non. \n",
    "\n",
    "##### ***2- Le nombre de joueurs (variable ‘nbpart’) :***\n",
    "Nous avons juste retracé le nombre de joueurs par groupe d’expérience. Nous allons essayer de voir si le nombre de joueurs modifie le comportement du jeu, car on pourrait supposer que plus l'échantillon est grand, plus on aurait une population mieux représentée, ce qui pourrait affecter la moyenne.\n",
    "\n",
    "##### ***3- Récompenses des gagnants (variable ‘payoffs’) :***\n",
    "Ici, nous avons regardé les gains attribués au gagnant du jeu par groupe. En ce sens, nous allons essayer d’appliquer le caractère incitatif (ici financier) à la réflexion. Intuitivement, on pourrait penser que plus le gain est gros, plus les joueurs prendraient le jeu au sérieux et auraient donc une réflexion plus profonde et sensiblement meilleure (c'est-à-dire donner une chiffre tendant vers l’équilibre 0). Pour construire les récompenses, nous avons converti les gains en dollars et pour les biens immatériels (comme les 2 billets d’avions London-Chicago) nous avons trouvé leurs valeurs réelles à la date de l’expérience. \n",
    "\n",
    "##### ***4- Temps de réponse accordé (variable ‘timeup’) :***\n",
    "Le temps de réponse est censé être, théoriquement, un indice de réflexion. En effet, on pourrait penser que plus la durée de réflexion est longue, plus la réponse sera proche de la vérité. On a donc converti l’ensemble des temps accordés en minutes pour chacun des groupes d’expérimentations.\n",
    "\n",
    "##### ***5- Nombre d’expérimentations faites (variable ‘nbexper’ ) :***\n",
    "Les expérimentations ont été faites plusieurs fois sur plusieurs groupes (4 fois pour le groupe 1, 2 fois pour les groupes 3, 4 et 6). Ainsi, la logique voudrait que la moyenne baisse pour les groupes ayant plusieurs opportunités de répondre au jeu et donc de le comprendre. \n",
    "\n",
    "Avant de faire cela, nous avons besoin d’un ensemble d’outils statistiques que nous avons construit à partir de Python. Pour utiliser les données, nous allons vous demander d’importer le module beautycontest et de rentrer le chemin du fichier xlsx : Beauty.xlsx. Nous avons aussi construit préalablement les bases de moyennes et écarts types qui nous serviront pour la régression multiple\n",
    "\n"
   ]
  },
  {
   "cell_type": "code",
   "execution_count": 5,
   "metadata": {},
   "outputs": [
    {
     "name": "stdout",
     "output_type": "stream",
     "text": [
      "Chemin du fichierC:/Users/theo/Desktop/sujet_1_LORTHIOS_PEYDRIERE_BELLO/Beauty.xlsx\n"
     ]
    }
   ],
   "source": [
    "import beautycontest as bc\n",
    "df=bc.data()\n",
    "import pandas as pd\n",
    "m = pd.DataFrame(columns = ['Means','std'])\n",
    "bc.moyenneexp(df,m)\n",
    "M = pd.DataFrame(columns = ['Means','std'] )\n",
    "bc.moyennegroup(df,M)\n",
    "bc.ajoute(M)"
   ]
  },
  {
   "cell_type": "markdown",
   "metadata": {},
   "source": [
    "Pour vérifier que tout est bien chargé : "
   ]
  },
  {
   "cell_type": "code",
   "execution_count": 6,
   "metadata": {},
   "outputs": [
    {
     "data": {
      "text/html": [
       "<div>\n",
       "<style scoped>\n",
       "    .dataframe tbody tr th:only-of-type {\n",
       "        vertical-align: middle;\n",
       "    }\n",
       "\n",
       "    .dataframe tbody tr th {\n",
       "        vertical-align: top;\n",
       "    }\n",
       "\n",
       "    .dataframe thead th {\n",
       "        text-align: right;\n",
       "    }\n",
       "</style>\n",
       "<table border=\"1\" class=\"dataframe\">\n",
       "  <thead>\n",
       "    <tr style=\"text-align: right;\">\n",
       "      <th></th>\n",
       "      <th>ident</th>\n",
       "      <th>Grpi</th>\n",
       "      <th>exper</th>\n",
       "      <th>val</th>\n",
       "    </tr>\n",
       "  </thead>\n",
       "  <tbody>\n",
       "    <tr>\n",
       "      <th>0</th>\n",
       "      <td>1</td>\n",
       "      <td>1</td>\n",
       "      <td>1</td>\n",
       "      <td>25.0</td>\n",
       "    </tr>\n",
       "    <tr>\n",
       "      <th>1</th>\n",
       "      <td>2</td>\n",
       "      <td>1</td>\n",
       "      <td>1</td>\n",
       "      <td>20.0</td>\n",
       "    </tr>\n",
       "    <tr>\n",
       "      <th>2</th>\n",
       "      <td>3</td>\n",
       "      <td>1</td>\n",
       "      <td>1</td>\n",
       "      <td>25.0</td>\n",
       "    </tr>\n",
       "    <tr>\n",
       "      <th>3</th>\n",
       "      <td>4</td>\n",
       "      <td>1</td>\n",
       "      <td>1</td>\n",
       "      <td>35.0</td>\n",
       "    </tr>\n",
       "    <tr>\n",
       "      <th>4</th>\n",
       "      <td>5</td>\n",
       "      <td>1</td>\n",
       "      <td>1</td>\n",
       "      <td>60.0</td>\n",
       "    </tr>\n",
       "  </tbody>\n",
       "</table>\n",
       "</div>"
      ],
      "text/plain": [
       "   ident  Grpi  exper   val\n",
       "0      1     1      1  25.0\n",
       "1      2     1      1  20.0\n",
       "2      3     1      1  25.0\n",
       "3      4     1      1  35.0\n",
       "4      5     1      1  60.0"
      ]
     },
     "execution_count": 6,
     "metadata": {},
     "output_type": "execute_result"
    }
   ],
   "source": [
    "df.head()"
   ]
  },
  {
   "cell_type": "markdown",
   "metadata": {},
   "source": [
    "## **3-Analyse des données :**\n",
    "### a) Outils statistiques "
   ]
  },
  {
   "cell_type": "markdown",
   "metadata": {},
   "source": [
    "Afin d’analyser nos données, nous avons construit, dans un premier temps, un ensemble d’outils statistiques sur python sous forme de fonctions, puis sous forme de modules. Nous avons fait pour chaque code une version par groupes (11 groupes) et par expériences (17 expériences). Cette rubrique vous permet d’utiliser nos outils statistiques avec n’importe quelle expérience et n’importe quel groupe. Dans la suite du devoir, nous les appellerons automatiquement, vous n’aurez donc qu’à exécuter les lignes de code. \n",
    "\n",
    "Pour les statistiques descriptives de bases : \n"
   ]
  },
  {
   "cell_type": "code",
   "execution_count": 3,
   "metadata": {},
   "outputs": [
    {
     "name": "stdout",
     "output_type": "stream",
     "text": [
      "Écrire le numero d'experience à analyser1\n",
      "count    17.000000\n",
      "mean     40.588235\n",
      "std      24.372266\n",
      "min      11.000000\n",
      "25%      25.000000\n",
      "50%      33.000000\n",
      "75%      60.000000\n",
      "max      99.000000\n",
      "Name: val, dtype: float64\n"
     ]
    }
   ],
   "source": [
    "bc.statexp(df)#Par expériences (de 1 à 17)#"
   ]
  },
  {
   "cell_type": "code",
   "execution_count": 4,
   "metadata": {},
   "outputs": [
    {
     "name": "stdout",
     "output_type": "stream",
     "text": [
      "Écrire le numero du groupe à analyser1\n",
      "count    66.000000\n",
      "mean     36.910606\n",
      "std      20.311832\n",
      "min       5.000000\n",
      "25%      24.000000\n",
      "50%      33.000000\n",
      "75%      45.000000\n",
      "max      99.000000\n",
      "Name: val, dtype: float64\n"
     ]
    }
   ],
   "source": [
    "bc.statgrp(df) #Par groupes (de 1 à 11)#"
   ]
  },
  {
   "cell_type": "markdown",
   "metadata": {},
   "source": [
    "La fonction appelée ici nous permet de connaître toutes les statistiques descriptives d’un groupe ou d’une expérience avec la moyenne, l’écart-type, le minimum, le maximum, les quantiles, etc. \n",
    "Pour cela, nous avons créé un compteur qui cherche, pour le groupe ou l’expérience demandé, les identifiants des joueurs répertoriés par la base de données correspondant. Ainsi, nous connaissons la localisation du groupe ou de l’expérience dans la base de données. Puis on demande les statistiques des valeurs du groupe ou de l’expérience avec la fonction .mean et .std du module pandas . Nous avons stocké toutes les moyennes et écarts types observés dans une nouvelle dataframe (m et M) pour pouvoir construire, par la suite, le modèle de régression.  \n",
    "\n",
    "Pour les graphiques, nous avons utilisé le même principe du compteur, sauf que nous avons utilisé la visualisation du module matplotlib.pyplot avec la fonction hist. \n",
    "L’histogramme est le graphique le plus pertinent pour ce genre de données et nous permet d’avoir une première intuition sur l’analyse. "
   ]
  },
  {
   "cell_type": "code",
   "execution_count": 5,
   "metadata": {},
   "outputs": [
    {
     "name": "stdout",
     "output_type": "stream",
     "text": [
      "Écrire le numero d'experience à representer graphiquement1\n"
     ]
    },
    {
     "data": {
      "image/png": "[encoded data removed]",
      "text/plain": [
       "<Figure size 432x288 with 1 Axes>"
      ]
     },
     "metadata": {
      "needs_background": "light"
     },
     "output_type": "display_data"
    }
   ],
   "source": [
    "bc.Graphexp(df) #Par expériences (de 1 à 17)"
   ]
  },
  {
   "cell_type": "code",
   "execution_count": 6,
   "metadata": {},
   "outputs": [
    {
     "name": "stdout",
     "output_type": "stream",
     "text": [
      "Écrire le numero du groupe à representer graphiquement1\n"
     ]
    },
    {
     "data": {
      "image/png": "[encoded data removed]",
      "text/plain": [
       "<Figure size 432x288 with 1 Axes>"
      ]
     },
     "metadata": {
      "needs_background": "light"
     },
     "output_type": "display_data"
    }
   ],
   "source": [
    "bc.Graphgroup(df) #Par groupes (de 1 à 11)"
   ]
  },
  {
   "cell_type": "markdown",
   "metadata": {},
   "source": [
    "Afin de comparer les moyennes de deux expériences ou de deux groupes différents, nous avons construit un t-test avec H0 : Moyenne 1 = Moyenne 2 contre H1 : Moyenne 1 /=/ Moyenne 2. En utilisant le compteur et la fonction ttest du module scipy.stats, on obtient la statistique de test et la p-value qui nous permettent de conclure sur la différence des moyennes.\n"
   ]
  },
  {
   "cell_type": "markdown",
   "metadata": {},
   "source": [
    "Différence de moyenne entre les treatment 1 et 10:\n",
    "On remarque que lorsque la récompense est beaucoup plus élevée, la moyenne est plus basse. Les personnes participant à l'expérience ont donc pris plus de temps pour réfléchir sur ce problème car l'incitation était plus grande."
   ]
  },
  {
   "cell_type": "code",
   "execution_count": 7,
   "metadata": {},
   "outputs": [
    {
     "name": "stdout",
     "output_type": "stream",
     "text": [
      "Écrire le numero de la première experience à analyser1\n",
      "Écrire le numero de la deuxième experience à analyser2\n",
      "Ttest_indResult(statistic=0.3480083446110638, pvalue=0.7303693061678398)\n"
     ]
    }
   ],
   "source": [
    "bc.testM(df) #Uniquement par expériences (de 1 à 17)#"
   ]
  },
  {
   "cell_type": "markdown",
   "metadata": {},
   "source": [
    "Enfin nous avons fait deux fonctions de régression : une première fonction de régression MCO simple avec une des cinq variables choisies sur l’ensemble des moyennes des groupes (et non des expériences car nous avons les informations sur les groupes et non les expériences). Et une seconde fonction qui effectue une régression sur les cinq variables directement. "
   ]
  },
  {
   "cell_type": "markdown",
   "metadata": {},
   "source": [
    "Pour la régression simple, il est demandé de choisir la variable explicative parmi les cinq variables préalablement créées. "
   ]
  },
  {
   "cell_type": "code",
   "execution_count": 9,
   "metadata": {},
   "outputs": [
    {
     "name": "stdout",
     "output_type": "stream",
     "text": [
      "Écrire le nom de la variable à regressernbexper\n"
     ]
    },
    {
     "data": {
      "image/png": "[encoded data removed]",
      "text/plain": [
       "<Figure size 432x288 with 1 Axes>"
      ]
     },
     "metadata": {
      "needs_background": "light"
     },
     "output_type": "display_data"
    },
    {
     "name": "stdout",
     "output_type": "stream",
     "text": [
      "                                 OLS Regression Results                                \n",
      "=======================================================================================\n",
      "Dep. Variable:                  Means   R-squared (uncentered):                   0.856\n",
      "Model:                            OLS   Adj. R-squared (uncentered):              0.842\n",
      "Method:                 Least Squares   F-statistic:                              59.57\n",
      "Date:                Sun, 22 Nov 2020   Prob (F-statistic):                    1.61e-05\n",
      "Time:                        14:05:27   Log-Likelihood:                         -39.991\n",
      "No. Observations:                  11   AIC:                                      81.98\n",
      "Df Residuals:                      10   BIC:                                      82.38\n",
      "Df Model:                           1                                                  \n",
      "Covariance Type:            nonrobust                                                  \n",
      "==============================================================================\n",
      "                 coef    std err          t      P>|t|      [0.025      0.975]\n",
      "------------------------------------------------------------------------------\n",
      "nbexper       12.5560      1.627      7.718      0.000       8.931      16.181\n",
      "==============================================================================\n",
      "Omnibus:                        0.904   Durbin-Watson:                   1.640\n",
      "Prob(Omnibus):                  0.636   Jarque-Bera (JB):                0.414\n",
      "Skew:                          -0.451   Prob(JB):                        0.813\n",
      "Kurtosis:                       2.704   Cond. No.                         1.00\n",
      "==============================================================================\n",
      "\n",
      "Notes:\n",
      "[1] R² is computed without centering (uncentered) since the model does not contain a constant.\n",
      "[2] Standard Errors assume that the covariance matrix of the errors is correctly specified.\n"
     ]
    },
    {
     "name": "stderr",
     "output_type": "stream",
     "text": [
      "C:\\Users\\theo\\anaconda3\\envs\\Mine\\lib\\site-packages\\scipy\\stats\\stats.py:1603: UserWarning: kurtosistest only valid for n>=20 ... continuing anyway, n=11\n",
      "  warnings.warn(\"kurtosistest only valid for n>=20 ... continuing \"\n"
     ]
    }
   ],
   "source": [
    "bc.REGraph(M)#Mettre la variable à étudier en régression simple#\n",
    "# Knowledge = Connaisance du jeu#\n",
    "# nbpart = Nombre de participants#\n",
    "# payoffs = Récompenses offertes aux gagnants#\n",
    "# timeup = Temps de réponse accordé#\n",
    "# nbexper = Nombre d'expérience faite dans un groupe#"
   ]
  },
  {
   "cell_type": "markdown",
   "metadata": {},
   "source": [
    "Pour la régression multiple, il n’y a rien à faire à part lancer le code : \n"
   ]
  },
  {
   "cell_type": "code",
   "execution_count": 10,
   "metadata": {},
   "outputs": [
    {
     "name": "stderr",
     "output_type": "stream",
     "text": [
      "C:\\Users\\theo\\anaconda3\\envs\\Mine\\lib\\site-packages\\scipy\\stats\\stats.py:1603: UserWarning: kurtosistest only valid for n>=20 ... continuing anyway, n=11\n",
      "  warnings.warn(\"kurtosistest only valid for n>=20 ... continuing \"\n"
     ]
    },
    {
     "data": {
      "text/html": [
       "<table class=\"simpletable\">\n",
       "<caption>OLS Regression Results</caption>\n",
       "<tr>\n",
       "  <th>Dep. Variable:</th>          <td>Means</td>      <th>  R-squared:         </th> <td>   0.850</td>\n",
       "</tr>\n",
       "<tr>\n",
       "  <th>Model:</th>                   <td>OLS</td>       <th>  Adj. R-squared:    </th> <td>   0.700</td>\n",
       "</tr>\n",
       "<tr>\n",
       "  <th>Method:</th>             <td>Least Squares</td>  <th>  F-statistic:       </th> <td>   5.671</td>\n",
       "</tr>\n",
       "<tr>\n",
       "  <th>Date:</th>             <td>Sun, 22 Nov 2020</td> <th>  Prob (F-statistic):</th>  <td>0.0399</td> \n",
       "</tr>\n",
       "<tr>\n",
       "  <th>Time:</th>                 <td>14:05:31</td>     <th>  Log-Likelihood:    </th> <td> -25.322</td>\n",
       "</tr>\n",
       "<tr>\n",
       "  <th>No. Observations:</th>      <td>    11</td>      <th>  AIC:               </th> <td>   62.64</td>\n",
       "</tr>\n",
       "<tr>\n",
       "  <th>Df Residuals:</th>          <td>     5</td>      <th>  BIC:               </th> <td>   65.03</td>\n",
       "</tr>\n",
       "<tr>\n",
       "  <th>Df Model:</th>              <td>     5</td>      <th>                     </th>     <td> </td>   \n",
       "</tr>\n",
       "<tr>\n",
       "  <th>Covariance Type:</th>      <td>nonrobust</td>    <th>                     </th>     <td> </td>   \n",
       "</tr>\n",
       "</table>\n",
       "<table class=\"simpletable\">\n",
       "<tr>\n",
       "      <td></td>         <th>coef</th>     <th>std err</th>      <th>t</th>      <th>P>|t|</th>  <th>[0.025</th>    <th>0.975]</th>  \n",
       "</tr>\n",
       "<tr>\n",
       "  <th>const</th>     <td>   21.7526</td> <td>    3.561</td> <td>    6.109</td> <td> 0.002</td> <td>   12.599</td> <td>   30.906</td>\n",
       "</tr>\n",
       "<tr>\n",
       "  <th>nbpart</th>    <td>    0.0015</td> <td>    0.002</td> <td>    0.844</td> <td> 0.437</td> <td>   -0.003</td> <td>    0.006</td>\n",
       "</tr>\n",
       "<tr>\n",
       "  <th>timeup</th>    <td> 2.181e-05</td> <td>    0.000</td> <td>    0.148</td> <td> 0.888</td> <td>   -0.000</td> <td>    0.000</td>\n",
       "</tr>\n",
       "<tr>\n",
       "  <th>payoffs</th>   <td>   -0.0097</td> <td>    0.007</td> <td>   -1.392</td> <td> 0.223</td> <td>   -0.028</td> <td>    0.008</td>\n",
       "</tr>\n",
       "<tr>\n",
       "  <th>Knowledge</th> <td>   -5.0903</td> <td>    1.741</td> <td>   -2.925</td> <td> 0.033</td> <td>   -9.565</td> <td>   -0.616</td>\n",
       "</tr>\n",
       "<tr>\n",
       "  <th>nbexper</th>   <td>    4.0063</td> <td>    1.412</td> <td>    2.837</td> <td> 0.036</td> <td>    0.376</td> <td>    7.637</td>\n",
       "</tr>\n",
       "</table>\n",
       "<table class=\"simpletable\">\n",
       "<tr>\n",
       "  <th>Omnibus:</th>       <td> 0.084</td> <th>  Durbin-Watson:     </th> <td>   1.362</td>\n",
       "</tr>\n",
       "<tr>\n",
       "  <th>Prob(Omnibus):</th> <td> 0.959</td> <th>  Jarque-Bera (JB):  </th> <td>   0.308</td>\n",
       "</tr>\n",
       "<tr>\n",
       "  <th>Skew:</th>          <td>-0.064</td> <th>  Prob(JB):          </th> <td>   0.857</td>\n",
       "</tr>\n",
       "<tr>\n",
       "  <th>Kurtosis:</th>      <td> 2.191</td> <th>  Cond. No.          </th> <td>4.85e+04</td>\n",
       "</tr>\n",
       "</table><br/><br/>Notes:<br/>[1] Standard Errors assume that the covariance matrix of the errors is correctly specified.<br/>[2] The condition number is large, 4.85e+04. This might indicate that there are<br/>strong multicollinearity or other numerical problems."
      ],
      "text/plain": [
       "<class 'statsmodels.iolib.summary.Summary'>\n",
       "\"\"\"\n",
       "                            OLS Regression Results                            \n",
       "==============================================================================\n",
       "Dep. Variable:                  Means   R-squared:                       0.850\n",
       "Model:                            OLS   Adj. R-squared:                  0.700\n",
       "Method:                 Least Squares   F-statistic:                     5.671\n",
       "Date:                Sun, 22 Nov 2020   Prob (F-statistic):             0.0399\n",
       "Time:                        14:05:31   Log-Likelihood:                -25.322\n",
       "No. Observations:                  11   AIC:                             62.64\n",
       "Df Residuals:                       5   BIC:                             65.03\n",
       "Df Model:                           5                                         \n",
       "Covariance Type:            nonrobust                                         \n",
       "==============================================================================\n",
       "                 coef    std err          t      P>|t|      [0.025      0.975]\n",
       "------------------------------------------------------------------------------\n",
       "const         21.7526      3.561      6.109      0.002      12.599      30.906\n",
       "nbpart         0.0015      0.002      0.844      0.437      -0.003       0.006\n",
       "timeup      2.181e-05      0.000      0.148      0.888      -0.000       0.000\n",
       "payoffs       -0.0097      0.007     -1.392      0.223      -0.028       0.008\n",
       "Knowledge     -5.0903      1.741     -2.925      0.033      -9.565      -0.616\n",
       "nbexper        4.0063      1.412      2.837      0.036       0.376       7.637\n",
       "==============================================================================\n",
       "Omnibus:                        0.084   Durbin-Watson:                   1.362\n",
       "Prob(Omnibus):                  0.959   Jarque-Bera (JB):                0.308\n",
       "Skew:                          -0.064   Prob(JB):                        0.857\n",
       "Kurtosis:                       2.191   Cond. No.                     4.85e+04\n",
       "==============================================================================\n",
       "\n",
       "Notes:\n",
       "[1] Standard Errors assume that the covariance matrix of the errors is correctly specified.\n",
       "[2] The condition number is large, 4.85e+04. This might indicate that there are\n",
       "strong multicollinearity or other numerical problems.\n",
       "\"\"\""
      ]
     },
     "execution_count": 10,
     "metadata": {},
     "output_type": "execute_result"
    }
   ],
   "source": [
    "bc.reg(M)"
   ]
  },
  {
   "cell_type": "markdown",
   "metadata": {},
   "source": [
    "Avec cet ensemble d’outils, nous sommes en mesure de nous lancer dans l’analyse des données du p-beauty contest.  "
   ]
  },
  {
   "cell_type": "markdown",
   "metadata": {},
   "source": [
    "### b) Analyse sur l'information et la récompense:\n",
    "\n",
    "Nous analyserons les différences trouvées parmi les groupes. Les expériences réalisées dans un environnement contrôlé nous permettent d’avoir des groupes homogènes par rapport à leur profils socio-économiques, leurs connaissances et leur accès à l’information. Dans cet ordre d’idées, nous comparerons les résultats obtenus dans l’expérience 1 (réalisée sur un groupe des étudiants universitaires de différents départements) aux résultats obtenus dans l’expérience 11 (réalisée sur un groupe d’économistes et théoriciens de jeux). Ceci nous permet d’analyser l’impact des connaissances dans la théorie des jeux.\n",
    "\n",
    "Ensuite, nous comparerons les résultats obtenus pour le groupe 1, où la récompense est de 12 dollars, aux résultats obtenus pour le groupe 10, où la récompense est de 800 dollars. Cette fois-ci nous analyserons l’impact de la récompense offerte. Finalement, nous réaliserons une régression multiple pour vérifier statistiquement les résultats observés précédemment. \n",
    "\n",
    "- Première analyse sur la significativité de l’information  \n",
    "\n",
    "Commençons par regarder graphiquement les résultats obtenus dans les expériences 1 et 11:\n"
   ]
  },
  {
   "cell_type": "code",
   "execution_count": 11,
   "metadata": {},
   "outputs": [
    {
     "data": {
      "image/png": "[encoded data removed]",
      "text/plain": [
       "<Figure size 432x288 with 1 Axes>"
      ]
     },
     "metadata": {
      "needs_background": "light"
     },
     "output_type": "display_data"
    }
   ],
   "source": [
    "bc.graphexp(df, 1)"
   ]
  },
  {
   "cell_type": "code",
   "execution_count": 12,
   "metadata": {},
   "outputs": [
    {
     "data": {
      "image/png": "[encoded data removed]",
      "text/plain": [
       "<Figure size 432x288 with 1 Axes>"
      ]
     },
     "metadata": {
      "needs_background": "light"
     },
     "output_type": "display_data"
    }
   ],
   "source": [
    "bc.graphexp(df,11)"
   ]
  },
  {
   "cell_type": "markdown",
   "metadata": {},
   "source": [
    "On observe une plus grande tendance vers 0 dans l'expérience 11, ce qui rentre bien dans la théorie originale du jeu. On tend vers l'équilibre de nash avec une information supplémentaire (la compréhension du jeu). Voyons les statistiques descriptives :"
   ]
  },
  {
   "cell_type": "code",
   "execution_count": 13,
   "metadata": {},
   "outputs": [
    {
     "name": "stdout",
     "output_type": "stream",
     "text": [
      "count    17.000000\n",
      "mean     40.588235\n",
      "std      24.372266\n",
      "min      11.000000\n",
      "25%      25.000000\n",
      "50%      33.000000\n",
      "75%      60.000000\n",
      "max      99.000000\n",
      "Name: val, dtype: float64\n"
     ]
    }
   ],
   "source": [
    "bc.Statexp(df,1)"
   ]
  },
  {
   "cell_type": "code",
   "execution_count": 14,
   "metadata": {},
   "outputs": [
    {
     "name": "stdout",
     "output_type": "stream",
     "text": [
      "count     26.000000\n",
      "mean      18.263077\n",
      "std       23.696456\n",
      "min        0.000000\n",
      "25%        3.000000\n",
      "50%        7.000000\n",
      "75%       22.750000\n",
      "max      100.000000\n",
      "Name: val, dtype: float64\n"
     ]
    }
   ],
   "source": [
    "bc.Statexp(df,11)"
   ]
  },
  {
   "cell_type": "markdown",
   "metadata": {},
   "source": [
    "On voit clairement que les moyennes s'éloignent fortement, on peut tester avec des méthodes d'inférence. On test donc : H0 : means(1) = means(11) H1 : means(1) /=/ means(11)."
   ]
  },
  {
   "cell_type": "code",
   "execution_count": 15,
   "metadata": {},
   "outputs": [
    {
     "name": "stdout",
     "output_type": "stream",
     "text": [
      "Ttest_indResult(statistic=2.969080602987289, pvalue=0.005471226641446641)\n"
     ]
    }
   ],
   "source": [
    "bc.TestM(df,1,11)"
   ]
  },
  {
   "cell_type": "markdown",
   "metadata": {},
   "source": [
    "On voit que la différence de moyenne est bien significativement différente. La statistique de test permet de dire que la moyenne de l'expérience 11 est significativement inférieure à la moyenne de l'expérience 1.\n",
    "\n",
    "On peut aussi regarder avec un nuage de point, la régression de l'ensemble des expériences avec une échelle de connaissance ( de 0 à 2, 2 étant les groupes d'individus avec le plus de connaissances dans le jeu)."
   ]
  },
  {
   "cell_type": "code",
   "execution_count": 16,
   "metadata": {},
   "outputs": [
    {
     "data": {
      "image/png": "[encoded data removed]",
      "text/plain": [
       "<Figure size 432x288 with 1 Axes>"
      ]
     },
     "metadata": {
      "needs_background": "light"
     },
     "output_type": "display_data"
    },
    {
     "name": "stdout",
     "output_type": "stream",
     "text": [
      "                                 OLS Regression Results                                \n",
      "=======================================================================================\n",
      "Dep. Variable:                  Means   R-squared (uncentered):                   0.257\n",
      "Model:                            OLS   Adj. R-squared (uncentered):              0.183\n",
      "Method:                 Least Squares   F-statistic:                              3.468\n",
      "Date:                Sun, 22 Nov 2020   Prob (F-statistic):                      0.0922\n",
      "Time:                        14:05:46   Log-Likelihood:                         -49.023\n",
      "No. Observations:                  11   AIC:                                      100.0\n",
      "Df Residuals:                      10   BIC:                                      100.4\n",
      "Df Model:                           1                                                  \n",
      "Covariance Type:            nonrobust                                                  \n",
      "==============================================================================\n",
      "                 coef    std err          t      P>|t|      [0.025      0.975]\n",
      "------------------------------------------------------------------------------\n",
      "Knowledge     10.8866      5.846      1.862      0.092      -2.139      23.913\n",
      "==============================================================================\n",
      "Omnibus:                        0.876   Durbin-Watson:                   0.339\n",
      "Prob(Omnibus):                  0.645   Jarque-Bera (JB):                0.753\n",
      "Skew:                          -0.435   Prob(JB):                        0.686\n",
      "Kurtosis:                       2.059   Cond. No.                         1.00\n",
      "==============================================================================\n",
      "\n",
      "Notes:\n",
      "[1] R² is computed without centering (uncentered) since the model does not contain a constant.\n",
      "[2] Standard Errors assume that the covariance matrix of the errors is correctly specified.\n"
     ]
    },
    {
     "name": "stderr",
     "output_type": "stream",
     "text": [
      "C:\\Users\\theo\\anaconda3\\envs\\Mine\\lib\\site-packages\\scipy\\stats\\stats.py:1603: UserWarning: kurtosistest only valid for n>=20 ... continuing anyway, n=11\n",
      "  warnings.warn(\"kurtosistest only valid for n>=20 ... continuing \"\n"
     ]
    }
   ],
   "source": [
    "bc.ReGraph(M,\"Knowledge\")"
   ]
  },
  {
   "cell_type": "markdown",
   "metadata": {},
   "source": [
    "On voit qu'en régression simple, la variable de connaissance est significativement différente de 0 à un seuil de 9.2%, ce qui n'est pas fabuleux (limite du nombre de groupes étudiés ... ). R2 est assez fort pour un modèle simple (18% de la variance des moyennes expliquées par le modèle).\n",
    "\n",
    "Ainsi, on peut affirmer que l’information par la connaissance joue un rôle dans la décision du joueur : c’est une variable qui peut devenir un effet de levier à la rationalité économique.  \n",
    "\n",
    "- Deuxième analyse sur la significativité de la récompense \n",
    "\n",
    "Maintenant, regardons graphiquement les résultats obtenus pour le groupe 1 et le groupe 10."
   ]
  },
  {
   "cell_type": "code",
   "execution_count": 17,
   "metadata": {},
   "outputs": [
    {
     "data": {
      "image/png": "[encoded data removed]",
      "text/plain": [
       "<Figure size 432x288 with 1 Axes>"
      ]
     },
     "metadata": {
      "needs_background": "light"
     },
     "output_type": "display_data"
    }
   ],
   "source": [
    "bc.graphgroup(df,1)"
   ]
  },
  {
   "cell_type": "code",
   "execution_count": 18,
   "metadata": {},
   "outputs": [
    {
     "data": {
      "image/png": "[encoded data removed]",
      "text/plain": [
       "<Figure size 432x288 with 1 Axes>"
      ]
     },
     "metadata": {
      "needs_background": "light"
     },
     "output_type": "display_data"
    }
   ],
   "source": [
    "bc.graphgroup(df,11)"
   ]
  },
  {
   "cell_type": "markdown",
   "metadata": {},
   "source": [
    "Nous remarquons que pour le groupe 10, un grand nombre de personnes ont donné un chiffre proche de 0. Tandis que pour le groupe 1, beaucoup de personnes ont donné un chiffre près de 30. Plus la récompense est grande, plus les réponses de l'expérience tendent vers 0.\n",
    "\n",
    "Nous allons maintenant regarder les statistiques descriptives :"
   ]
  },
  {
   "cell_type": "code",
   "execution_count": 19,
   "metadata": {},
   "outputs": [
    {
     "name": "stdout",
     "output_type": "stream",
     "text": [
      "count    66.000000\n",
      "mean     36.910606\n",
      "std      20.311832\n",
      "min       5.000000\n",
      "25%      24.000000\n",
      "50%      33.000000\n",
      "75%      45.000000\n",
      "max      99.000000\n",
      "Name: val, dtype: float64\n"
     ]
    }
   ],
   "source": [
    "bc.Statgrp(df,1)"
   ]
  },
  {
   "cell_type": "code",
   "execution_count": 20,
   "metadata": {},
   "outputs": [
    {
     "name": "stdout",
     "output_type": "stream",
     "text": [
      "count    3695.000000\n",
      "mean       25.462632\n",
      "std        18.894878\n",
      "min         0.001000\n",
      "25%        11.949750\n",
      "50%        22.444440\n",
      "75%        33.499500\n",
      "max       100.000000\n",
      "Name: val, dtype: float64\n"
     ]
    }
   ],
   "source": [
    "bc.Statgrp(df,10)"
   ]
  },
  {
   "cell_type": "markdown",
   "metadata": {},
   "source": [
    "On remarque que les moyennes sont différentes. Pour le groupe 1, la moyenne est à 36.910606. Alors que pour le groupe 10 la moyenne est à 25.462632. Plus la récompense est élevée, plus la moyenne est proche de 0.\n",
    "Nous allons maintenant tester avec des méthodes d'inférence. Regardons s'il existe une différence significative entre les moyennes du groupe 1 et du groupe 10. \n",
    "On test : H0 : means(1) = means (10) H1 : means(1) /=/ means(10)"
   ]
  },
  {
   "cell_type": "code",
   "execution_count": 21,
   "metadata": {},
   "outputs": [
    {
     "name": "stdout",
     "output_type": "stream",
     "text": [
      "Ttest_indResult(statistic=3.3108467936413133, pvalue=0.0026397057002933845)\n"
     ]
    }
   ],
   "source": [
    "bc.TestM(df,1,10)"
   ]
  },
  {
   "cell_type": "markdown",
   "metadata": {},
   "source": [
    "On voit que la p-value est de 2.36849e-05, donc la différence de moyennes est bien significativement différente. La statistique de test nous permet de dire que la moyenne du groupe 10 est significativement inférieure à celle du groupe 1."
   ]
  },
  {
   "cell_type": "code",
   "execution_count": 22,
   "metadata": {},
   "outputs": [
    {
     "data": {
      "image/png": "[encoded data removed]",
      "text/plain": [
       "<Figure size 432x288 with 1 Axes>"
      ]
     },
     "metadata": {
      "needs_background": "light"
     },
     "output_type": "display_data"
    },
    {
     "name": "stdout",
     "output_type": "stream",
     "text": [
      "                                 OLS Regression Results                                \n",
      "=======================================================================================\n",
      "Dep. Variable:                  Means   R-squared (uncentered):                   0.246\n",
      "Model:                            OLS   Adj. R-squared (uncentered):              0.171\n",
      "Method:                 Least Squares   F-statistic:                              3.268\n",
      "Date:                Sun, 22 Nov 2020   Prob (F-statistic):                       0.101\n",
      "Time:                        14:06:04   Log-Likelihood:                         -49.105\n",
      "No. Observations:                  11   AIC:                                      100.2\n",
      "Df Residuals:                      10   BIC:                                      100.6\n",
      "Df Model:                           1                                                  \n",
      "Covariance Type:            nonrobust                                                  \n",
      "==============================================================================\n",
      "                 coef    std err          t      P>|t|      [0.025      0.975]\n",
      "------------------------------------------------------------------------------\n",
      "payoffs        0.0289      0.016      1.808      0.101      -0.007       0.064\n",
      "==============================================================================\n",
      "Omnibus:                        0.758   Durbin-Watson:                   0.252\n",
      "Prob(Omnibus):                  0.685   Jarque-Bera (JB):                0.548\n",
      "Skew:                          -0.472   Prob(JB):                        0.760\n",
      "Kurtosis:                       2.448   Cond. No.                         1.00\n",
      "==============================================================================\n",
      "\n",
      "Notes:\n",
      "[1] R² is computed without centering (uncentered) since the model does not contain a constant.\n",
      "[2] Standard Errors assume that the covariance matrix of the errors is correctly specified.\n"
     ]
    },
    {
     "name": "stderr",
     "output_type": "stream",
     "text": [
      "C:\\Users\\theo\\anaconda3\\envs\\Mine\\lib\\site-packages\\scipy\\stats\\stats.py:1603: UserWarning: kurtosistest only valid for n>=20 ... continuing anyway, n=11\n",
      "  warnings.warn(\"kurtosistest only valid for n>=20 ... continuing \"\n"
     ]
    }
   ],
   "source": [
    "bc.ReGraph(M,\"payoffs\")"
   ]
  },
  {
   "cell_type": "markdown",
   "metadata": {},
   "source": [
    "On peut voir dans le tableau de régression simple, que la variable des récompenses est faiblement significativement différente de 0, elle l'est au seuil de 10 %. On pourrait expliquer ce résultat par le manque de récompenses à valeurs moyennes, on passe de 10-30 dollars de récompense à des valeurs allant à 800 dollars sans valeurs intermédiaires. Ainsi on admet deux problèmes à cette régression : le nombre trop faible d'observations et la présence d’outliers (point extrêmes) qui faussent la droite de régression. On se contentera de comparer les moyennes avec des attributs les plus proches possibles.\n",
    "\n",
    "- Analyse finale avec la régression  "
   ]
  },
  {
   "cell_type": "code",
   "execution_count": 23,
   "metadata": {},
   "outputs": [
    {
     "name": "stderr",
     "output_type": "stream",
     "text": [
      "C:\\Users\\theo\\anaconda3\\envs\\Mine\\lib\\site-packages\\scipy\\stats\\stats.py:1603: UserWarning: kurtosistest only valid for n>=20 ... continuing anyway, n=11\n",
      "  warnings.warn(\"kurtosistest only valid for n>=20 ... continuing \"\n"
     ]
    },
    {
     "data": {
      "text/html": [
       "<table class=\"simpletable\">\n",
       "<caption>OLS Regression Results</caption>\n",
       "<tr>\n",
       "  <th>Dep. Variable:</th>          <td>Means</td>      <th>  R-squared:         </th> <td>   0.850</td>\n",
       "</tr>\n",
       "<tr>\n",
       "  <th>Model:</th>                   <td>OLS</td>       <th>  Adj. R-squared:    </th> <td>   0.700</td>\n",
       "</tr>\n",
       "<tr>\n",
       "  <th>Method:</th>             <td>Least Squares</td>  <th>  F-statistic:       </th> <td>   5.671</td>\n",
       "</tr>\n",
       "<tr>\n",
       "  <th>Date:</th>             <td>Sun, 22 Nov 2020</td> <th>  Prob (F-statistic):</th>  <td>0.0399</td> \n",
       "</tr>\n",
       "<tr>\n",
       "  <th>Time:</th>                 <td>14:06:08</td>     <th>  Log-Likelihood:    </th> <td> -25.322</td>\n",
       "</tr>\n",
       "<tr>\n",
       "  <th>No. Observations:</th>      <td>    11</td>      <th>  AIC:               </th> <td>   62.64</td>\n",
       "</tr>\n",
       "<tr>\n",
       "  <th>Df Residuals:</th>          <td>     5</td>      <th>  BIC:               </th> <td>   65.03</td>\n",
       "</tr>\n",
       "<tr>\n",
       "  <th>Df Model:</th>              <td>     5</td>      <th>                     </th>     <td> </td>   \n",
       "</tr>\n",
       "<tr>\n",
       "  <th>Covariance Type:</th>      <td>nonrobust</td>    <th>                     </th>     <td> </td>   \n",
       "</tr>\n",
       "</table>\n",
       "<table class=\"simpletable\">\n",
       "<tr>\n",
       "      <td></td>         <th>coef</th>     <th>std err</th>      <th>t</th>      <th>P>|t|</th>  <th>[0.025</th>    <th>0.975]</th>  \n",
       "</tr>\n",
       "<tr>\n",
       "  <th>const</th>     <td>   21.7526</td> <td>    3.561</td> <td>    6.109</td> <td> 0.002</td> <td>   12.599</td> <td>   30.906</td>\n",
       "</tr>\n",
       "<tr>\n",
       "  <th>nbpart</th>    <td>    0.0015</td> <td>    0.002</td> <td>    0.844</td> <td> 0.437</td> <td>   -0.003</td> <td>    0.006</td>\n",
       "</tr>\n",
       "<tr>\n",
       "  <th>timeup</th>    <td> 2.181e-05</td> <td>    0.000</td> <td>    0.148</td> <td> 0.888</td> <td>   -0.000</td> <td>    0.000</td>\n",
       "</tr>\n",
       "<tr>\n",
       "  <th>payoffs</th>   <td>   -0.0097</td> <td>    0.007</td> <td>   -1.392</td> <td> 0.223</td> <td>   -0.028</td> <td>    0.008</td>\n",
       "</tr>\n",
       "<tr>\n",
       "  <th>Knowledge</th> <td>   -5.0903</td> <td>    1.741</td> <td>   -2.925</td> <td> 0.033</td> <td>   -9.565</td> <td>   -0.616</td>\n",
       "</tr>\n",
       "<tr>\n",
       "  <th>nbexper</th>   <td>    4.0063</td> <td>    1.412</td> <td>    2.837</td> <td> 0.036</td> <td>    0.376</td> <td>    7.637</td>\n",
       "</tr>\n",
       "</table>\n",
       "<table class=\"simpletable\">\n",
       "<tr>\n",
       "  <th>Omnibus:</th>       <td> 0.084</td> <th>  Durbin-Watson:     </th> <td>   1.362</td>\n",
       "</tr>\n",
       "<tr>\n",
       "  <th>Prob(Omnibus):</th> <td> 0.959</td> <th>  Jarque-Bera (JB):  </th> <td>   0.308</td>\n",
       "</tr>\n",
       "<tr>\n",
       "  <th>Skew:</th>          <td>-0.064</td> <th>  Prob(JB):          </th> <td>   0.857</td>\n",
       "</tr>\n",
       "<tr>\n",
       "  <th>Kurtosis:</th>      <td> 2.191</td> <th>  Cond. No.          </th> <td>4.85e+04</td>\n",
       "</tr>\n",
       "</table><br/><br/>Notes:<br/>[1] Standard Errors assume that the covariance matrix of the errors is correctly specified.<br/>[2] The condition number is large, 4.85e+04. This might indicate that there are<br/>strong multicollinearity or other numerical problems."
      ],
      "text/plain": [
       "<class 'statsmodels.iolib.summary.Summary'>\n",
       "\"\"\"\n",
       "                            OLS Regression Results                            \n",
       "==============================================================================\n",
       "Dep. Variable:                  Means   R-squared:                       0.850\n",
       "Model:                            OLS   Adj. R-squared:                  0.700\n",
       "Method:                 Least Squares   F-statistic:                     5.671\n",
       "Date:                Sun, 22 Nov 2020   Prob (F-statistic):             0.0399\n",
       "Time:                        14:06:08   Log-Likelihood:                -25.322\n",
       "No. Observations:                  11   AIC:                             62.64\n",
       "Df Residuals:                       5   BIC:                             65.03\n",
       "Df Model:                           5                                         \n",
       "Covariance Type:            nonrobust                                         \n",
       "==============================================================================\n",
       "                 coef    std err          t      P>|t|      [0.025      0.975]\n",
       "------------------------------------------------------------------------------\n",
       "const         21.7526      3.561      6.109      0.002      12.599      30.906\n",
       "nbpart         0.0015      0.002      0.844      0.437      -0.003       0.006\n",
       "timeup      2.181e-05      0.000      0.148      0.888      -0.000       0.000\n",
       "payoffs       -0.0097      0.007     -1.392      0.223      -0.028       0.008\n",
       "Knowledge     -5.0903      1.741     -2.925      0.033      -9.565      -0.616\n",
       "nbexper        4.0063      1.412      2.837      0.036       0.376       7.637\n",
       "==============================================================================\n",
       "Omnibus:                        0.084   Durbin-Watson:                   1.362\n",
       "Prob(Omnibus):                  0.959   Jarque-Bera (JB):                0.308\n",
       "Skew:                          -0.064   Prob(JB):                        0.857\n",
       "Kurtosis:                       2.191   Cond. No.                     4.85e+04\n",
       "==============================================================================\n",
       "\n",
       "Notes:\n",
       "[1] Standard Errors assume that the covariance matrix of the errors is correctly specified.\n",
       "[2] The condition number is large, 4.85e+04. This might indicate that there are\n",
       "strong multicollinearity or other numerical problems.\n",
       "\"\"\""
      ]
     },
     "execution_count": 23,
     "metadata": {},
     "output_type": "execute_result"
    }
   ],
   "source": [
    "bc.reg(M)"
   ]
  },
  {
   "cell_type": "markdown",
   "metadata": {},
   "source": [
    "On observe que le paramètre de connaissances en théorie de jeux est négatif, ce qui confirme nos observations précédentes. Par rapport à la récompense, son paramètre est négatif, mais cette variable n'est pas significative. La variable nombre d'expérience est significative, néanmoins son paramètre est positif, ce qui voudrait dire que plus d'expériences sont réalisées, plus grande sera la moyenne, ce qui n'est pas très logique, puisque on supposerait que la réalisation de plusieurs expérience amènerait à une plus grande compréhension du jeu. Dans cette régression, le temps de réponse et le nombre de joueurs n'affectent pas la moyenne, c'est-à-dire qu’on pourrait avoir les mêmes résultats, sans avoir en compte la taille de l'échantillon. \n",
    "\n",
    "Notre modèle explique 85% la variance de la moyenne, ce qui est un très bon en théorie. Mais on a aussi vu des faiblesses à notre modèle avec des problèmes d'échantillons trop faibles, d’outliers, d'hétéroscédasticité… Le plus intéressant reste la confirmation de quelques intuitions théoriques pour l’information par exemple. On peut donc expliquer une partie des décisions par une variable exogène à l’agent ! C’est un effet de levier possible. Avec plus d’expériences et de groupes homogènes, les résultats pourraient s’améliorer et faire tendre notre analyse vers les résultats théoriques attendus avec des valeurs interprétables et donc utilisables."
   ]
  },
  {
   "cell_type": "markdown",
   "metadata": {},
   "source": [
    "## ***Conclusion*** : \n",
    "\n",
    "Donc, nous avons vu que l’optimum de Nash n’est jamais respecté.\n",
    "Pour différentes raisons : \n",
    "\n",
    "-l’information données aux joueurs \n",
    "-la rationalité des joueurs \n",
    "\n",
    "L’information étant le levier principal que nous avons observé pour faire tendre la moyenne du jeu vers 0 (son équilibre théorique). Selon l’information donnée (connaissance de l’équilibre, nombre de participants, récompense au gagnant, temps de réflexion), les résultats de jeux se déforment et modifient le comportement des joueurs. \n",
    "\n",
    "La rationalité des joueurs est difficilement quantifiable mais on remarque que la confiance totale en l’information parfaite est inatteignable (aucune expérience à une moyenne égale à 0 ). Ainsi même les spécialistes du jeu n’arrivent pas à l’équilibre en toute connaissance de cause. Cette crédibilité collective est implicite au jeu mais s’améliore selon les informations données (1 er levier). \n",
    "Il existe donc un effet de levier à la crédibilité collective et au raisonnement qui lui est censé être parfaitement subjectif. \n",
    "\n",
    "Nous avons donc répondu partiellement à la problématique qui été : \n",
    "\n",
    "Peut-on prévoir la décision d’un agent dans un jeu à intérêt collectif ?\n",
    "\n",
    "Non, on ne peut pas prédire parfaitement la décision d’un agent mais nous pouvons influencer son choix avec les informations qu’on lui livre. On a aussi vu que l’on peut influencer, avec ces mêmes informations, son niveau de crédulité et ainsi la crédibilité collective d’une entité. \n",
    "\n",
    "Ce résultat peut s’appliquer d’une manière plus concrète à des problématiques économiques par exemple. \n",
    "Prenons l’exemple d’une politique monétaire manoeuvrée par la banque centrale; D’incitation au crédit par abaissement du taux d’intérêt directeur. Ce taux définit le coût de refinancement des banques de second rang en monnaie centrale. L’objectif de la politique est donc d’augmenter les ressources propres des banques de second rang qui seront plus enclin d’octroyer des crédits tout en respectant les lois de Bales III et ainsi relancer l’activité économique par l’investissement et la consommation. \n",
    "\n",
    "Problème étant qu’une politique d’abaissement du taux directeur peut désinciter les marchés financiers et les épargnants à faire circuler la liquidité dans l’économie (car le taux d’intérêt est le rendement de ces derniers, s’il baisse, les épargnants perdent de l’argent à court terme). Le cas extrême est le cas actuel où les taux sont si bas qu’il touche le seuil des 0 %, on tombe dans la trappe à liquidité de Keynes. En d’autres termes, les épargnants ne peuvent s’attendre qu’à une hausse des taux d’intérêts car les taux négatifs sont inenvisageables. Les détenteurs de liquidité thésaurisent leurs argents rendant la politique de relance rudement inefficace.\n",
    "La banque centrale n'est donc pas crédible aux yeux des acteurs financiers et c’est tout l’intérêt du p-beauty contest. Si on arrive, avec ce jeu, à déterminer le niveau de crédibilité de la banque centrale, on pourra prédire le niveau d’efficacité de la politique monétaire. Mais ce n’est pas tout, les résultats de notre analyse montrent aussi clairement que l’on peut jouer sur la crédulité des joueurs avec le cadre informationnel donné. Nous avons donc des effets de leviers possibles à la bonne croyance d’une politique économique. Ceci étant purement théorique, on aurait besoin de plus d’expériences de p-beauty contest pour affiner nos intuitions et ajouter des valeurs quantitatives à chaque effet de levier.\n",
    "\n",
    "### c) Bibliographie \n",
    "\n",
    "-Keynes John Maynard, (1936), The general theory of interest, employment and money, London: Macmillan.\n",
    "\n",
    "-Bosch-Domenech, Antoni, Garcia-Montalvo, Jose, Nagel, Rosemarie and Satorra, Albert, (2002), One, two, (three), infinity: Newspaper and lab beauty-contest experiments, Artefactual Field Experiments, The Field Experiments Website.\n",
    "\n",
    "-Nagel, R., Bosch-Domènech, A., Charness, G., Garcia-Montalvo, J., Hurkens, S., López Nicolás, Á., Matthies, N., Rockenbach, B., Satorra, A., Selten, R., & Thaler, R. H. (2018). Dataset One, Two, (Three), Infinity, ...: Newspaper and Lab Beauty-Contest Experiments. doi: 10.23663/x2544\n",
    "\n",
    "-John Mayard Keynes, (1936),  La pauvreté dans l'abondance. \n",
    "\n",
    "-Cours économie expérimentale, Julie Rosaz, Université Lumière Lyon 2, Licence 2 économie et gestion (2019)\n"
   ]
  },
  {
   "cell_type": "code",
   "execution_count": null,
   "metadata": {},
   "outputs": [],
   "source": []
  }
 ],
 "metadata": {
  "kernelspec": {
   "display_name": "Python 3",
   "language": "python",
   "name": "python3"
  },
  "language_info": {
   "codemirror_mode": {
    "name": "ipython",
    "version": 3
   },
   "file_extension": ".py",
   "mimetype": "text/x-python",
   "name": "python",
   "nbconvert_exporter": "python",
   "pygments_lexer": "ipython3",
   "version": "3.8.5"
  }
 },
 "nbformat": 4,
 "nbformat_minor": 4
}
